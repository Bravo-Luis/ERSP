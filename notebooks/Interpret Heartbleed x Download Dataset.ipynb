{
 "cells": [
  {
   "cell_type": "code",
   "execution_count": 2,
   "id": "sustained-mailman",
   "metadata": {},
   "outputs": [
    {
     "name": "stderr",
     "output_type": "stream",
     "text": [
      "2021-04-22 13:51:33,813 - INFO - Init done.\n"
     ]
    }
   ],
   "source": [
    "import copy\n",
    "import io\n",
    "\n",
    "import numpy as np\n",
    "\n",
    "import graphviz\n",
    "import matplotlib.pyplot as plt\n",
    "import pandas as pd\n",
    "import rootpath\n",
    "import shap\n",
    "from imblearn.over_sampling import RandomOverSampler\n",
    "from imblearn.under_sampling import RandomUnderSampler\n",
    "from interpret import show\n",
    "from interpret.blackbox import LimeTabular\n",
    "from skexplain.enums.feature_type import FeatureType\n",
    "from skexplain.imitation import (ClassificationDagger,\n",
    "                                 IncrementalClassificationDagger,\n",
    "                                 RegressionDagger)\n",
    "from skexplain.utils import dataset, log, persist\n",
    "from skexplain.utils.const import (BOSTON_DATASET_META,\n",
    "                                   CIC_IDS_2017_DATASET_META,\n",
    "                                   DIABETES_DATASET_META,\n",
    "                                   DOWNLOAD_DATASET_META, IOT_DATASET_META,\n",
    "                                   WINE_DATASET_META)\n",
    "from sklearn import tree\n",
    "from sklearn.ensemble import RandomForestClassifier, RandomForestRegressor\n",
    "from sklearn.metrics import classification_report, f1_score, r2_score\n",
    "from sklearn.model_selection import train_test_split\n",
    "from sklearn.neural_network import MLPClassifier, MLPRegressor\n",
    "from sklearn.svm import LinearSVC\n",
    "\n",
    "df_test_meta=DOWNLOAD_DATASET_META\n",
    "df_train_meta=CIC_IDS_2017_DATASET_META \n",
    "model=RandomForestClassifier\n",
    "as_df=False\n",
    "\n",
    "\n",
    "\"\"\" Test using Reinforcement Learning to extract Decision Tree from a generic Blackbox model \"\"\"\n",
    "logger = log.Logger(\n",
    "    \"{}/res/log/{}/notebook_{}_{}.log\".format(rootpath.detect(), df_train_meta['name'],  model.__name__, \"Raw\")\n",
    ")\n",
    "logger.log('Init done.')"
   ]
  },
  {
   "cell_type": "code",
   "execution_count": 3,
   "id": "suitable-david",
   "metadata": {
    "scrolled": true
   },
   "outputs": [
    {
     "name": "stderr",
     "output_type": "stream",
     "text": [
      "2021-04-22 13:51:35,641 - INFO - ========== Metadata start. ==========\n",
      "2021-04-22 13:51:35,643 - INFO - Names: ['Flow Duration', 'Total Fwd Packets', 'Total Backward Packets', 'Total Length of Fwd Packets', 'Total Length of Bwd Packets', 'Fwd Packet Length Max', 'Fwd Packet Length Min', 'Fwd Packet Length Mean', 'Fwd Packet Length Std', 'Bwd Packet Length Max', 'Bwd Packet Length Min', 'Bwd Packet Length Mean', 'Bwd Packet Length Std', 'Flow Bytes/s', 'Flow Packets/s', 'Flow IAT Mean', 'Flow IAT Std', 'Flow IAT Max', 'Flow IAT Min', 'Fwd IAT Total', 'Fwd IAT Mean', 'Fwd IAT Std', 'Fwd IAT Max', 'Fwd IAT Min', 'Bwd IAT Total', 'Bwd IAT Mean', 'Bwd IAT Std', 'Bwd IAT Max', 'Bwd IAT Min', 'Fwd PSH Flags', 'Fwd URG Flags', 'Bwd Header Length', 'Fwd Packets/s', 'Bwd Packets/s', 'Min Packet Length', 'Max Packet Length', 'Packet Length Mean', 'Packet Length Std', 'Packet Length Variance', 'FIN Flag Count', 'SYN Flag Count', 'RST Flag Count', 'PSH Flag Count', 'ACK Flag Count', 'URG Flag Count', 'CWE Flag Count', 'ECE Flag Count', 'Down/Up Ratio', 'Average Packet Size', 'Avg Fwd Segment Size', 'Avg Bwd Segment Size', 'Fwd Header Length', 'Subflow Fwd Packets', 'Subflow Fwd Bytes', 'Subflow Bwd Packets', 'Subflow Bwd Bytes', 'Init_Win_bytes_forward', 'Init_Win_bytes_backward', 'act_data_pkt_fwd', 'min_seg_size_forward', 'Active Mean', 'Active Std', 'Active Max', 'Active Min', 'Idle Mean', 'Idle Std', 'Idle Max', 'Idle Min', 'Label']\n",
      "2021-04-22 13:51:35,644 - INFO - Dummies: [29, 30]\n",
      "2021-04-22 13:51:35,645 - INFO - Use cols: [1, 2, 3, 4, 5, 6, 7, 8, 9, 10, 11, 12, 13, 14, 15, 16, 17, 18, 19, 20, 21, 22, 23, 24, 25, 26, 27, 28, 29, 30, 32, 35, 36, 37, 38, 39, 40, 41, 42, 43, 44, 45, 46, 47, 48, 49, 50, 51, 52, 53, 54, 55, 62, 63, 64, 65, 66, 67, 68, 69, 70, 71, 72, 73, 74, 75, 76, 77, 78]\n",
      "2021-04-22 13:51:35,646 - INFO - Result variable: [68]\n",
      "2021-04-22 13:51:35,647 - INFO - ========== Metadata end. ==========\n",
      "2021-04-22 13:51:35,648 - INFO - \n",
      "Both a converter and dtype were specified for column Label - only the converter will be used\n",
      "2021-04-22 13:51:51,849 - INFO - Pandas read_csv complete.\n",
      "2021-04-22 13:51:51,851 - INFO - Column/Categories Fwd PSH Flags [0, 1]\n",
      "2021-04-22 13:51:51,963 - INFO - Column/Categories Fwd URG Flags [0, 1]\n",
      "2021-04-22 13:51:53,271 - INFO - CSV dataset read:\n",
      "2021-04-22 13:51:53,467 - INFO -          Flow Duration  Total Fwd Packets  Total Backward Packets  \\\n",
      "0                  166                  1                       1   \n",
      "1                   83                  1                       2   \n",
      "2                99947                  1                       1   \n",
      "3                37017                  1                       1   \n",
      "4            111161336                147                       0   \n",
      "...                ...                ...                     ...   \n",
      "2830738             49                  1                       3   \n",
      "2830739            217                  2                       1   \n",
      "2830740        1387547                 41                      46   \n",
      "2830741            207                  1                       1   \n",
      "2830742             50                  1                       2   \n",
      "\n",
      "         Total Length of Fwd Packets  Total Length of Bwd Packets  \\\n",
      "0                                  0                            0   \n",
      "1                                  0                            0   \n",
      "2                                 48                           48   \n",
      "3                                 48                           48   \n",
      "4                                  0                            0   \n",
      "...                              ...                          ...   \n",
      "2830738                            6                           18   \n",
      "2830739                           31                            6   \n",
      "2830740                         2728                         6634   \n",
      "2830741                            0                            0   \n",
      "2830742                            0                            0   \n",
      "\n",
      "         Fwd Packet Length Max  Fwd Packet Length Min  Fwd Packet Length Mean  \\\n",
      "0                            0                      0                  0.0000   \n",
      "1                            0                      0                  0.0000   \n",
      "2                           48                     48                 48.0000   \n",
      "3                           48                     48                 48.0000   \n",
      "4                            0                      0                  0.0000   \n",
      "...                        ...                    ...                     ...   \n",
      "2830738                      6                      6                  6.0000   \n",
      "2830739                     31                      0                 15.5000   \n",
      "2830740                    456                      0                 66.5625   \n",
      "2830741                      0                      0                  0.0000   \n",
      "2830742                      0                      0                  0.0000   \n",
      "\n",
      "         Fwd Packet Length Std  Bwd Packet Length Max  ...  \\\n",
      "0                     0.000000                      0  ...   \n",
      "1                     0.000000                      0  ...   \n",
      "2                     0.000000                     48  ...   \n",
      "3                     0.000000                     48  ...   \n",
      "4                     0.000000                      0  ...   \n",
      "...                        ...                    ...  ...   \n",
      "2830738               0.000000                      6  ...   \n",
      "2830739              21.921875                      6  ...   \n",
      "2830740             110.125000                    976  ...   \n",
      "2830741               0.000000                      0  ...   \n",
      "2830742               0.000000                      0  ...   \n",
      "\n",
      "         min_seg_size_forward  Active Mean  Active Std  Active Max  \\\n",
      "0                          32        0.000         0.0           0   \n",
      "1                          32        0.000         0.0           0   \n",
      "2                          40        0.000         0.0           0   \n",
      "3                          32        0.000         0.0           0   \n",
      "4                           0  1753752.625   2123197.5     4822992   \n",
      "...                       ...          ...         ...         ...   \n",
      "2830738                    20        0.000         0.0           0   \n",
      "2830739                    32        0.000         0.0           0   \n",
      "2830740                    32        0.000         0.0           0   \n",
      "2830741                    32        0.000         0.0           0   \n",
      "2830742                    32        0.000         0.0           0   \n",
      "\n",
      "         Active Min  Idle Mean   Idle Std  Idle Max  Idle Min  Label  \n",
      "0                 0        0.0        0.0         0         0      0  \n",
      "1                 0        0.0        0.0         0         0      0  \n",
      "2                 0        0.0        0.0         0         0      0  \n",
      "3                 0        0.0        0.0         0         0      0  \n",
      "4                95  9463033.0  2657728.0  13600000   5700287      0  \n",
      "...             ...        ...        ...       ...       ...    ...  \n",
      "2830738           0        0.0        0.0         0         0      0  \n",
      "2830739           0        0.0        0.0         0         0      0  \n",
      "2830740           0        0.0        0.0         0         0      0  \n",
      "2830741           0        0.0        0.0         0         0      0  \n",
      "2830742           0        0.0        0.0         0         0      0  \n",
      "\n",
      "[2275074 rows x 69 columns]\n",
      "2021-04-22 13:51:53,469 - INFO - (2275074, 69)\n",
      "2021-04-22 13:51:53,841 - INFO - Any NAN? 0\n",
      "2021-04-22 13:51:53,846 - INFO - Total memory usage: 472.99 MB\n",
      "2021-04-22 13:51:53,847 - INFO - Average memory usage: 6.76 MB\n",
      "2021-04-22 13:51:53,869 - INFO - [0 1]\n",
      "2021-04-22 13:51:55,131 - INFO - Features Shape: (2275074, 70)\n",
      "2021-04-22 13:51:55,132 - INFO - Column names:\n",
      "0: Flow Duration\n",
      "1: Total Fwd Packets\n",
      "2: Total Backward Packets\n",
      "3: Total Length of Fwd Packets\n",
      "4: Total Length of Bwd Packets\n",
      "5: Fwd Packet Length Max\n",
      "6: Fwd Packet Length Min\n",
      "7: Fwd Packet Length Mean\n",
      "8: Fwd Packet Length Std\n",
      "9: Bwd Packet Length Max\n",
      "10: Bwd Packet Length Min\n",
      "11: Bwd Packet Length Mean\n",
      "12: Bwd Packet Length Std\n",
      "13: Flow Bytes/s\n",
      "14: Flow Packets/s\n",
      "15: Flow IAT Mean\n",
      "16: Flow IAT Std\n",
      "17: Flow IAT Max\n",
      "18: Flow IAT Min\n",
      "19: Fwd IAT Total\n",
      "20: Fwd IAT Mean\n",
      "21: Fwd IAT Std\n",
      "22: Fwd IAT Max\n",
      "23: Fwd IAT Min\n",
      "24: Bwd IAT Total\n",
      "25: Bwd IAT Mean\n",
      "26: Bwd IAT Std\n",
      "27: Bwd IAT Max\n",
      "28: Bwd IAT Min\n",
      "29: Bwd Header Length\n",
      "30: Fwd Packets/s\n",
      "31: Bwd Packets/s\n",
      "32: Min Packet Length\n",
      "33: Max Packet Length\n",
      "34: Packet Length Mean\n",
      "35: Packet Length Std\n",
      "36: Packet Length Variance\n",
      "37: FIN Flag Count\n",
      "38: SYN Flag Count\n",
      "39: RST Flag Count\n",
      "40: PSH Flag Count\n",
      "41: ACK Flag Count\n",
      "42: URG Flag Count\n",
      "43: CWE Flag Count\n",
      "44: ECE Flag Count\n",
      "45: Down/Up Ratio\n",
      "46: Average Packet Size\n",
      "47: Avg Fwd Segment Size\n",
      "48: Avg Bwd Segment Size\n",
      "49: Fwd Header Length\n",
      "50: Subflow Fwd Packets\n",
      "51: Subflow Fwd Bytes\n",
      "52: Subflow Bwd Packets\n",
      "53: Subflow Bwd Bytes\n",
      "54: Init_Win_bytes_forward\n",
      "55: Init_Win_bytes_backward\n",
      "56: act_data_pkt_fwd\n",
      "57: min_seg_size_forward\n",
      "58: Active Mean\n",
      "59: Active Std\n",
      "60: Active Max\n",
      "61: Active Min\n",
      "62: Idle Mean\n",
      "63: Idle Std\n",
      "64: Idle Max\n",
      "65: Idle Min\n",
      "66: Fwd PSH Flags_0\n",
      "67: Fwd PSH Flags_1\n",
      "68: Fwd URG Flags_0\n",
      "69: Fwd URG Flags_1\n",
      "\n"
     ]
    },
    {
     "name": "stderr",
     "output_type": "stream",
     "text": [
      "2021-04-22 13:51:55,133 - INFO - Targets shape: (2275074, 1) Index(['Label'], dtype='object')\n"
     ]
    }
   ],
   "source": [
    "# Step 1: Parse test def\n",
    "X_train, y_train, feature_names, _, _ = dataset.read(df_train_meta['path'], metadata=df_train_meta,\n",
    "                                         verbose=True, logger=logger, as_df=as_df)"
   ]
  },
  {
   "cell_type": "code",
   "execution_count": 4,
   "id": "administrative-arlington",
   "metadata": {
    "scrolled": false
   },
   "outputs": [
    {
     "name": "stderr",
     "output_type": "stream",
     "text": [
      "2021-04-22 13:52:00,065 - INFO - ########## Model init ##########\n",
      "2021-04-22 13:52:00,068 - INFO - Looking for pre-trained model: ../res/weights/RandomForestClassifier_Raw_cic_ids_2017_70.joblib...\n",
      "2021-04-22 13:52:00,142 - INFO - ########## Done ##########\n"
     ]
    }
   ],
   "source": [
    "# Step 2: Train black-box model with loaded dataset\n",
    "logger.log(\"#\" * 10, \"Model init\", \"#\" * 10)\n",
    "model_path = \"../res/weights/{}_{}_{}_{}.joblib\".format(model.__name__,\n",
    "                                                        \"Raw\", df_train_meta['name'], X_train.shape[1])\n",
    "logger.log(\"Looking for pre-trained model: {}...\".format(model_path))\n",
    "blackbox = persist.load_model(model_path)\n",
    "if not blackbox:\n",
    "    raise ValueError(\"Trained model not found. Please train model before unit testing it.\")\n",
    "logger.log(\"#\" * 10, \"Done\", \"#\" * 10)"
   ]
  },
  {
   "cell_type": "code",
   "execution_count": 14,
   "id": "parliamentary-farming",
   "metadata": {
    "scrolled": true
   },
   "outputs": [
    {
     "name": "stderr",
     "output_type": "stream",
     "text": [
      "2021-04-22 14:47:05,099 - INFO - ========== Metadata start. ==========\n",
      "2021-04-22 14:47:05,102 - INFO - Names: ['Flow Duration', 'Total Fwd Packets', 'Total Backward Packets', 'Total Length of Fwd Packets', 'Total Length of Bwd Packets', 'Fwd Packet Length Max', 'Fwd Packet Length Min', 'Fwd Packet Length Mean', 'Fwd Packet Length Std', 'Bwd Packet Length Max', 'Bwd Packet Length Min', 'Bwd Packet Length Mean', 'Bwd Packet Length Std', 'Flow Bytes/s', 'Flow Packets/s', 'Flow IAT Mean', 'Flow IAT Std', 'Flow IAT Max', 'Flow IAT Min', 'Fwd IAT Total', 'Fwd IAT Mean', 'Fwd IAT Std', 'Fwd IAT Max', 'Fwd IAT Min', 'Bwd IAT Total', 'Bwd IAT Mean', 'Bwd IAT Std', 'Bwd IAT Max', 'Bwd IAT Min', 'Fwd PSH Flags', 'Fwd URG Flags', 'Bwd Header Length', 'Fwd Packets/s', 'Bwd Packets/s', 'Min Packet Length', 'Max Packet Length', 'Packet Length Mean', 'Packet Length Std', 'Packet Length Variance', 'FIN Flag Count', 'SYN Flag Count', 'RST Flag Count', 'PSH Flag Count', 'ACK Flag Count', 'URG Flag Count', 'CWE Flag Count', 'ECE Flag Count', 'Down/Up Ratio', 'Average Packet Size', 'Avg Fwd Segment Size', 'Avg Bwd Segment Size', 'Fwd Header Length', 'Subflow Fwd Packets', 'Subflow Fwd Bytes', 'Subflow Bwd Packets', 'Subflow Bwd Bytes', 'Init_Win_bytes_forward', 'Init_Win_bytes_backward', 'act_data_pkt_fwd', 'min_seg_size_forward', 'Active Mean', 'Active Std', 'Active Max', 'Active Min', 'Idle Mean', 'Idle Std', 'Idle Max', 'Idle Min', 'Label']\n",
      "2021-04-22 14:47:05,103 - INFO - Dummies: [29, 30]\n",
      "2021-04-22 14:47:05,105 - INFO - Use cols: [1, 2, 3, 4, 5, 6, 7, 8, 9, 10, 11, 12, 13, 14, 15, 16, 17, 18, 19, 20, 21, 22, 23, 24, 25, 26, 27, 28, 29, 30, 32, 35, 36, 37, 38, 39, 40, 41, 42, 43, 44, 45, 46, 47, 48, 49, 50, 51, 52, 53, 54, 55, 62, 63, 64, 65, 66, 67, 68, 69, 70, 71, 72, 73, 74, 75, 76, 77, 78]\n",
      "2021-04-22 14:47:05,106 - INFO - Result variable: [68]\n",
      "2021-04-22 14:47:05,107 - INFO - ========== Metadata end. ==========\n",
      "2021-04-22 14:47:05,108 - INFO - \n",
      "/Users/asjacobs/workspace/explainability/scikit-explain/skexplain/utils/dataset.py:95: ParserWarning:\n",
      "\n",
      "Both a converter and dtype were specified for column Label - only the converter will be used\n",
      "\n",
      "2021-04-22 14:47:05,123 - INFO - Pandas read_csv complete.\n",
      "2021-04-22 14:47:05,124 - INFO - Column/Categories Fwd PSH Flags [0, 1]\n",
      "2021-04-22 14:47:05,126 - INFO - Column/Categories Fwd URG Flags [0, 1]\n",
      "2021-04-22 14:47:05,129 - INFO - CSV dataset read:\n",
      "2021-04-22 14:47:05,142 - INFO -     Flow Duration  Total Fwd Packets  Total Backward Packets  \\\n",
      "0          922006               4026                   18618   \n",
      "1            7126                  8                       7   \n",
      "2           10928                 10                       9   \n",
      "3       119302728               2685                    1729   \n",
      "4       119262215               2792                    2110   \n",
      "5       119261118               2794                    2130   \n",
      "6       119260295               2791                    2114   \n",
      "7       119297996               2782                    2089   \n",
      "8       119259886               2782                    2091   \n",
      "9       119259012               2801                    2069   \n",
      "10      119257653               2802                    2067   \n",
      "11      119299621               2805                    2028   \n",
      "12      119296592               2797                    2006   \n",
      "13       24719667                590                     436   \n",
      "14         121881                  1                       1   \n",
      "15      108264455                 16                      15   \n",
      "\n",
      "    Total Length of Fwd Packets  Total Length of Bwd Packets  \\\n",
      "0                        225756                    235402945   \n",
      "1                           851                         1672   \n",
      "2                           963                        18073   \n",
      "3                          8299                      7556917   \n",
      "4                         13712                      7878135   \n",
      "5                         12264                      7879536   \n",
      "6                         13712                      7878088   \n",
      "7                          9368                      7882432   \n",
      "8                         12264                      7879536   \n",
      "9                         12264                      7879536   \n",
      "10                        20858                      7812389   \n",
      "11                        13712                      7878627   \n",
      "12                        13712                      7878088   \n",
      "13                         7442                      1636683   \n",
      "14                            0                            0   \n",
      "15                          352                          298   \n",
      "\n",
      "    Fwd Packet Length Max  Fwd Packet Length Min  Fwd Packet Length Mean  \\\n",
      "0                     344                     56               56.062500   \n",
      "1                     281                     44              106.375000   \n",
      "2                     281                     44               96.312500   \n",
      "3                     517                      0                3.091797   \n",
      "4                    5792                      0                4.910156   \n",
      "5                    4344                      0                4.390625   \n",
      "6                    5792                      0                4.914062   \n",
      "7                    1448                      0                3.367188   \n",
      "8                    4344                      0                4.410156   \n",
      "9                    4344                      0                4.378906   \n",
      "10                   5792                      0                7.445312   \n",
      "11                   5792                      0                4.886719   \n",
      "12                   5792                      0                4.902344   \n",
      "13                   5792                      0               12.617188   \n",
      "14                      0                      0                0.000000   \n",
      "15                     38                      6               22.000000   \n",
      "\n",
      "    Fwd Packet Length Std  Bwd Packet Length Max  ...  min_seg_size_forward  \\\n",
      "0                4.542969                  16388  ...                    20   \n",
      "1               88.250000                   1193  ...                    20   \n",
      "2               81.437500                  16388  ...                    20   \n",
      "3               16.859375                  17376  ...                    32   \n",
      "4              110.375000                  14480  ...                    32   \n",
      "5               83.187500                  13032  ...                    32   \n",
      "6              110.375000                  13032  ...                    32   \n",
      "7               30.500000                  17376  ...                    32   \n",
      "8               83.375000                  15928  ...                    32   \n",
      "9               83.125000                  15928  ...                    32   \n",
      "10             126.062500                  13032  ...                    32   \n",
      "11             110.125000                  17376  ...                    32   \n",
      "12             110.250000                  13032  ...                    32   \n",
      "13             238.750000                  13032  ...                    32   \n",
      "14               0.000000                      0  ...                    32   \n",
      "15              16.531250                     32  ...                    20   \n",
      "\n",
      "     Active Mean     Active Std  Active Max  Active Min     Idle Mean  \\\n",
      "0     6080.12500    2963.650391       11222          42  6.788125e+03   \n",
      "1        0.00000       0.000000           0           0  0.000000e+00   \n",
      "2        0.00000       0.000000           0           0  0.000000e+00   \n",
      "3     2217.00000       0.000000        2217        2217  5.024984e+06   \n",
      "4        0.00000       0.000000           0           0  0.000000e+00   \n",
      "5        0.00000       0.000000           0           0  0.000000e+00   \n",
      "6        0.00000       0.000000           0           0  0.000000e+00   \n",
      "7        0.00000       0.000000           0           0  0.000000e+00   \n",
      "8        0.00000       0.000000           0           0  0.000000e+00   \n",
      "9        0.00000       0.000000           0           0  0.000000e+00   \n",
      "10       0.00000       0.000000           0           0  0.000000e+00   \n",
      "11       0.00000       0.000000           0           0  0.000000e+00   \n",
      "12       0.00000       0.000000           0           0  0.000000e+00   \n",
      "13       0.00000       0.000000           0           0  0.000000e+00   \n",
      "14       0.00000       0.000000           0           0  0.000000e+00   \n",
      "15  469422.84375  638754.562500     1620507      102499  1.495744e+07   \n",
      "\n",
      "        Idle Std  Idle Max  Idle Min  Label  \n",
      "0    1967.868530     11251      5082      0  \n",
      "1       0.000000         0         0      1  \n",
      "2       0.000000         0         0      1  \n",
      "3       0.000000   5024984   5024984      1  \n",
      "4       0.000000         0         0      1  \n",
      "5       0.000000         0         0      1  \n",
      "6       0.000000         0         0      1  \n",
      "7       0.000000         0         0      1  \n",
      "8       0.000000         0         0      1  \n",
      "9       0.000000         0         0      1  \n",
      "10      0.000000         0         0      1  \n",
      "11      0.000000         0         0      1  \n",
      "12      0.000000         0         0      1  \n",
      "13      0.000000         0         0      1  \n",
      "14      0.000000         0         0      0  \n",
      "15  20321.330078  15003355  14946448      0  \n",
      "\n",
      "[16 rows x 69 columns]\n"
     ]
    },
    {
     "name": "stderr",
     "output_type": "stream",
     "text": [
      "2021-04-22 14:47:05,143 - INFO - (16, 69)\n",
      "2021-04-22 14:47:05,145 - INFO - Any NAN? 0\n",
      "2021-04-22 14:47:05,150 - INFO - Total memory usage: 0.00 MB\n",
      "2021-04-22 14:47:05,151 - INFO - Average memory usage: 0.00 MB\n",
      "2021-04-22 14:47:05,152 - INFO - [0 1]\n",
      "2021-04-22 14:47:05,159 - INFO - Features Shape: (16, 70)\n",
      "2021-04-22 14:47:05,160 - INFO - Column names:\n",
      "0: Flow Duration\n",
      "1: Total Fwd Packets\n",
      "2: Total Backward Packets\n",
      "3: Total Length of Fwd Packets\n",
      "4: Total Length of Bwd Packets\n",
      "5: Fwd Packet Length Max\n",
      "6: Fwd Packet Length Min\n",
      "7: Fwd Packet Length Mean\n",
      "8: Fwd Packet Length Std\n",
      "9: Bwd Packet Length Max\n",
      "10: Bwd Packet Length Min\n",
      "11: Bwd Packet Length Mean\n",
      "12: Bwd Packet Length Std\n",
      "13: Flow Bytes/s\n",
      "14: Flow Packets/s\n",
      "15: Flow IAT Mean\n",
      "16: Flow IAT Std\n",
      "17: Flow IAT Max\n",
      "18: Flow IAT Min\n",
      "19: Fwd IAT Total\n",
      "20: Fwd IAT Mean\n",
      "21: Fwd IAT Std\n",
      "22: Fwd IAT Max\n",
      "23: Fwd IAT Min\n",
      "24: Bwd IAT Total\n",
      "25: Bwd IAT Mean\n",
      "26: Bwd IAT Std\n",
      "27: Bwd IAT Max\n",
      "28: Bwd IAT Min\n",
      "29: Bwd Header Length\n",
      "30: Fwd Packets/s\n",
      "31: Bwd Packets/s\n",
      "32: Min Packet Length\n",
      "33: Max Packet Length\n",
      "34: Packet Length Mean\n",
      "35: Packet Length Std\n",
      "36: Packet Length Variance\n",
      "37: FIN Flag Count\n",
      "38: SYN Flag Count\n",
      "39: RST Flag Count\n",
      "40: PSH Flag Count\n",
      "41: ACK Flag Count\n",
      "42: URG Flag Count\n",
      "43: CWE Flag Count\n",
      "44: ECE Flag Count\n",
      "45: Down/Up Ratio\n",
      "46: Average Packet Size\n",
      "47: Avg Fwd Segment Size\n",
      "48: Avg Bwd Segment Size\n",
      "49: Fwd Header Length\n",
      "50: Subflow Fwd Packets\n",
      "51: Subflow Fwd Bytes\n",
      "52: Subflow Bwd Packets\n",
      "53: Subflow Bwd Bytes\n",
      "54: Init_Win_bytes_forward\n",
      "55: Init_Win_bytes_backward\n",
      "56: act_data_pkt_fwd\n",
      "57: min_seg_size_forward\n",
      "58: Active Mean\n",
      "59: Active Std\n",
      "60: Active Max\n",
      "61: Active Min\n",
      "62: Idle Mean\n",
      "63: Idle Std\n",
      "64: Idle Max\n",
      "65: Idle Min\n",
      "66: Fwd PSH Flags_0\n",
      "67: Fwd PSH Flags_1\n",
      "68: Fwd URG Flags_0\n",
      "69: Fwd URG Flags_1\n",
      "\n",
      "2021-04-22 14:47:05,161 - INFO - Targets shape: (16, 1) Index(['Label'], dtype='object')\n",
      "2021-04-22 14:47:05,169 - INFO - [[9.22006000e+05 4.02600000e+03 1.86180000e+04 ... 0.00000000e+00\n",
      "  1.00000000e+00 0.00000000e+00]\n",
      " [7.12600000e+03 8.00000000e+00 7.00000000e+00 ... 0.00000000e+00\n",
      "  1.00000000e+00 0.00000000e+00]\n",
      " [1.09280000e+04 1.00000000e+01 9.00000000e+00 ... 0.00000000e+00\n",
      "  1.00000000e+00 0.00000000e+00]\n",
      " ...\n",
      " [2.47196670e+07 5.90000000e+02 4.36000000e+02 ... 0.00000000e+00\n",
      "  1.00000000e+00 0.00000000e+00]\n",
      " [1.21881000e+05 1.00000000e+00 1.00000000e+00 ... 0.00000000e+00\n",
      "  1.00000000e+00 0.00000000e+00]\n",
      " [1.08264455e+08 1.60000000e+01 1.50000000e+01 ... 1.00000000e+00\n",
      "  1.00000000e+00 0.00000000e+00]]\n",
      "2021-04-22 14:47:05,170 - INFO - [[0]\n",
      " [1]\n",
      " [1]\n",
      " [1]\n",
      " [1]\n",
      " [1]\n",
      " [1]\n",
      " [1]\n",
      " [1]\n",
      " [1]\n",
      " [1]\n",
      " [1]\n",
      " [1]\n",
      " [1]\n",
      " [0]\n",
      " [0]]\n",
      "2021-04-22 14:47:05,281 - INFO - [0 1 1 1 1 1 1 1 1 1 1 1 1 1 0 0] [0 0 0 1 1 1 1 1 1 1 1 1 1 1 0 0]\n",
      "2021-04-22 14:47:05,283 - INFO - Blackbox model training classification report:\n",
      "2021-04-22 14:47:05,295 - INFO - \n",
      "              precision    recall  f1-score   support\n",
      "\n",
      "           0      0.600     1.000     0.750         3\n",
      "           1      1.000     0.846     0.917        13\n",
      "\n",
      "    accuracy                          0.875        16\n",
      "   macro avg      0.800     0.923     0.833        16\n",
      "weighted avg      0.925     0.875     0.885        16\n",
      "\n"
     ]
    }
   ],
   "source": [
    "X_test, y_test, feature_names, _, _ = dataset.read(df_test_meta['path'], metadata=df_test_meta,\n",
    "                                         verbose=True, logger=logger, as_df=as_df)                                                   \n",
    "\n",
    "logger.log(X_test)\n",
    "logger.log(y_test)\n",
    "\n",
    "y_pred = blackbox.predict(X_test)\n",
    "logger.log(y_test.ravel(), y_pred)\n",
    "\n",
    "logger.log(\"Blackbox model training classification report:\")\n",
    "logger.log(\"\\n{}\".format(classification_report(y_test, y_pred, digits=3)))"
   ]
  },
  {
   "cell_type": "code",
   "execution_count": 15,
   "id": "registered-float",
   "metadata": {
    "scrolled": true
   },
   "outputs": [
    {
     "data": {
      "text/html": [
       "<!-- http://127.0.0.1:7001/5167700568/ -->\n",
       "<iframe src=\"http://127.0.0.1:7001/5167700568/\" width=100% height=800 frameBorder=\"0\"></iframe>"
      ]
     },
     "metadata": {},
     "output_type": "display_data"
    }
   ],
   "source": [
    "# Blackbox explainers need a predict function, and optionally a dataset\n",
    "lime = LimeTabular(predict_fn=blackbox.predict_proba, data=X_train, random_state=1,  feature_names=list(feature_names))\n",
    "\n",
    "# Pick the instances to explain, optionally pass in labels if you have them\n",
    "lime_local = lime.explain_local([X_test[0]], y_test[0], name='LIME Benign Traffic Test Case')\n",
    "\n",
    "show(lime_local)"
   ]
  },
  {
   "cell_type": "code",
   "execution_count": 16,
   "id": "educational-amplifier",
   "metadata": {
    "scrolled": true
   },
   "outputs": [
    {
     "data": {
      "text/html": [
       "<!-- http://127.0.0.1:7001/5170093416/ -->\n",
       "<iframe src=\"http://127.0.0.1:7001/5170093416/\" width=100% height=800 frameBorder=\"0\"></iframe>"
      ]
     },
     "metadata": {},
     "output_type": "display_data"
    }
   ],
   "source": [
    "# Pick the instances to explain, optionally pass in labels if you have them\n",
    "lime_local = lime.explain_local([X_test[1]], y_test[1], name='LIME Small Heartbleed Test Case')\n",
    "\n",
    "show(lime_local)"
   ]
  },
  {
   "cell_type": "code",
   "execution_count": 17,
   "id": "charming-journalism",
   "metadata": {},
   "outputs": [
    {
     "data": {
      "text/html": [
       "<!-- http://127.0.0.1:7001/5169788800/ -->\n",
       "<iframe src=\"http://127.0.0.1:7001/5169788800/\" width=100% height=800 frameBorder=\"0\"></iframe>"
      ]
     },
     "metadata": {},
     "output_type": "display_data"
    }
   ],
   "source": [
    "# Pick the instances to explain, optionally pass in labels if you have them\n",
    "lime_local = lime.explain_local([X_test[2]], y_test[2], name='LIME Large Heartbleed Test Case')\n",
    "\n",
    "show(lime_local)"
   ]
  },
  {
   "cell_type": "code",
   "execution_count": 18,
   "id": "reflected-recording",
   "metadata": {},
   "outputs": [
    {
     "data": {
      "text/html": [
       "<!-- http://127.0.0.1:7001/5166958856/ -->\n",
       "<iframe src=\"http://127.0.0.1:7001/5166958856/\" width=100% height=800 frameBorder=\"0\"></iframe>"
      ]
     },
     "metadata": {},
     "output_type": "display_data"
    }
   ],
   "source": [
    "# Pick the instances to explain, optionally pass in labels if you have them\n",
    "lime_local = lime.explain_local([X_test[3]], y_test[3], name='LIME Original Heartbleed Test Case')\n",
    "\n",
    "show(lime_local)"
   ]
  },
  {
   "cell_type": "code",
   "execution_count": 19,
   "id": "surprising-watts",
   "metadata": {
    "scrolled": true
   },
   "outputs": [
    {
     "data": {
      "application/vnd.jupyter.widget-view+json": {
       "model_id": "464e7de70e9549529a69d47d0773e962",
       "version_major": 2,
       "version_minor": 0
      },
      "text/plain": [
       "HBox(children=(FloatProgress(value=0.0, max=16.0), HTML(value='')))"
      ]
     },
     "metadata": {},
     "output_type": "display_data"
    },
    {
     "name": "stdout",
     "output_type": "stream",
     "text": [
      "\n"
     ]
    },
    {
     "data": {
      "text/html": [
       "<!-- http://127.0.0.1:7001/5166709784/ -->\n",
       "<iframe src=\"http://127.0.0.1:7001/5166709784/\" width=100% height=800 frameBorder=\"0\"></iframe>"
      ]
     },
     "metadata": {},
     "output_type": "display_data"
    }
   ],
   "source": [
    "from interpret.blackbox import ShapKernel\n",
    "import numpy as np\n",
    "\n",
    "background_val = np.median(X_train, axis=0).reshape(1, -1)\n",
    "shap = ShapKernel(predict_fn=blackbox.predict_proba, data=background_val, feature_names=list(feature_names))\n",
    "shap_local = shap.explain_local(X_test, y_test, name='SHAP All Test Cases')\n",
    "\n",
    "\n",
    "show(shap_local)"
   ]
  },
  {
   "cell_type": "code",
   "execution_count": 20,
   "id": "advised-challenge",
   "metadata": {
    "scrolled": true
   },
   "outputs": [
    {
     "data": {
      "text/html": [
       "<!-- http://127.0.0.1:7001/5167050704/ -->\n",
       "<iframe src=\"http://127.0.0.1:7001/5167050704/\" width=100% height=800 frameBorder=\"0\"></iframe>"
      ]
     },
     "metadata": {},
     "output_type": "display_data"
    }
   ],
   "source": [
    "from interpret.blackbox import MorrisSensitivity\n",
    "\n",
    "sensitivity = MorrisSensitivity(predict_fn=blackbox.predict_proba, data=X_train,  feature_names=list(feature_names))\n",
    "sensitivity_global = sensitivity.explain_global(name=\"Global Sensitivity\")\n",
    "\n",
    "show(sensitivity_global)"
   ]
  },
  {
   "cell_type": "code",
   "execution_count": 13,
   "id": "still-absorption",
   "metadata": {
    "scrolled": true
   },
   "outputs": [
    {
     "data": {
      "text/html": [
       "<!-- http://127.0.0.1:7001/5167339952/ -->\n",
       "<iframe src=\"http://127.0.0.1:7001/5167339952/\" width=100% height=800 frameBorder=\"0\"></iframe>"
      ]
     },
     "metadata": {},
     "output_type": "display_data"
    }
   ],
   "source": [
    "from interpret.glassbox import ClassificationTree\n",
    "\n",
    "y_pred = blackbox.predict(X_train)\n",
    "\n",
    "tree = ClassificationTree(feature_names=list(feature_names))\n",
    "tree.fit(X_train, y_pred)\n",
    "\n",
    "tree_global = tree.explain_global(name='Classification Tree')\n",
    "\n",
    "show(tree_global)"
   ]
  },
  {
   "cell_type": "code",
   "execution_count": null,
   "id": "placed-blood",
   "metadata": {},
   "outputs": [],
   "source": []
  }
 ],
 "metadata": {
  "kernelspec": {
   "display_name": "Python 3",
   "language": "python",
   "name": "python3"
  },
  "language_info": {
   "codemirror_mode": {
    "name": "ipython",
    "version": 3
   },
   "file_extension": ".py",
   "mimetype": "text/x-python",
   "name": "python",
   "nbconvert_exporter": "python",
   "pygments_lexer": "ipython3",
   "version": "3.7.3"
  }
 },
 "nbformat": 4,
 "nbformat_minor": 5
}
